{
  "nbformat": 4,
  "nbformat_minor": 0,
  "metadata": {
    "colab": {
      "name": "1_basics",
      "provenance": [],
      "collapsed_sections": [],
      "authorship_tag": "ABX9TyOFUUELLUGw060ifnw2Dp+t",
      "include_colab_link": true
    },
    "kernelspec": {
      "name": "python3",
      "display_name": "Python 3"
    },
    "language_info": {
      "name": "python"
    }
  },
  "cells": [
    {
      "cell_type": "markdown",
      "metadata": {
        "id": "view-in-github",
        "colab_type": "text"
      },
      "source": [
        "<a href=\"https://colab.research.google.com/github/sudo-change/ML/blob/main/1_basics.ipynb\" target=\"_parent\"><img src=\"https://colab.research.google.com/assets/colab-badge.svg\" alt=\"Open In Colab\"/></a>"
      ]
    },
    {
      "cell_type": "code",
      "execution_count": 1,
      "metadata": {
        "id": "R_YEW90GGOHv"
      },
      "outputs": [],
      "source": [
        "import numpy as np"
      ]
    },
    {
      "cell_type": "markdown",
      "source": [
        "- list comprehensions\n",
        "- computational complexity"
      ],
      "metadata": {
        "id": "5q6PfzgpHg8v"
      }
    },
    {
      "cell_type": "code",
      "source": [
        "e = {\"a\":1, \"b\":2,\"c\":4}\n",
        "e[\"c\"]"
      ],
      "metadata": {
        "colab": {
          "base_uri": "https://localhost:8080/"
        },
        "id": "x2ZKUg-nGjPd",
        "outputId": "06a2e7ff-36b6-47b2-9b99-437ffedb51a8"
      },
      "execution_count": 2,
      "outputs": [
        {
          "output_type": "execute_result",
          "data": {
            "text/plain": [
              "4"
            ]
          },
          "metadata": {},
          "execution_count": 2
        }
      ]
    },
    {
      "cell_type": "code",
      "source": [
        "mylist = ['a','b','c']\n",
        "mydict = {x:x+x for x in mylist}\n",
        "mydict"
      ],
      "metadata": {
        "colab": {
          "base_uri": "https://localhost:8080/"
        },
        "id": "Bvi7qAAEHyXJ",
        "outputId": "f743a843-146e-4efe-e09d-b2f823e8bbaf"
      },
      "execution_count": 5,
      "outputs": [
        {
          "output_type": "execute_result",
          "data": {
            "text/plain": [
              "{'a': 'aa', 'b': 'bb', 'c': 'cc'}"
            ]
          },
          "metadata": {},
          "execution_count": 5
        }
      ]
    },
    {
      "cell_type": "markdown",
      "source": [
        "- functions\n",
        "- lambda\n",
        "- numpy\n",
        "- zip"
      ],
      "metadata": {
        "id": "VeBI7YaAIUBy"
      }
    },
    {
      "cell_type": "code",
      "source": [
        "def addone(a):\n",
        "  pass\n",
        "  return a+1, a+4\n",
        "  \n",
        "addone(3)"
      ],
      "metadata": {
        "colab": {
          "base_uri": "https://localhost:8080/"
        },
        "id": "kp8GnRnyIGhM",
        "outputId": "194a7950-e949-45ca-efa2-32668864e127"
      },
      "execution_count": 7,
      "outputs": [
        {
          "output_type": "execute_result",
          "data": {
            "text/plain": [
              "(4, 7)"
            ]
          },
          "metadata": {},
          "execution_count": 7
        }
      ]
    },
    {
      "cell_type": "code",
      "source": [
        "squaring = lambda x, y:(x**2, y**2)\n",
        "squaring(3,5)"
      ],
      "metadata": {
        "colab": {
          "base_uri": "https://localhost:8080/"
        },
        "id": "o12CsbkHIgAc",
        "outputId": "32ceaa0b-414f-4956-95e8-6af52d3ecf33"
      },
      "execution_count": 8,
      "outputs": [
        {
          "output_type": "execute_result",
          "data": {
            "text/plain": [
              "(9, 25)"
            ]
          },
          "metadata": {},
          "execution_count": 8
        }
      ]
    },
    {
      "cell_type": "code",
      "source": [
        "a = [1, 2, 3]\n",
        "b = [3, 4, 6]\n",
        "a+ b"
      ],
      "metadata": {
        "colab": {
          "base_uri": "https://localhost:8080/"
        },
        "id": "9gxnLxL6JMFj",
        "outputId": "a5462242-a42a-44a0-c108-79b8fcf77e18"
      },
      "execution_count": 9,
      "outputs": [
        {
          "output_type": "execute_result",
          "data": {
            "text/plain": [
              "[1, 2, 3, 3, 4, 6]"
            ]
          },
          "metadata": {},
          "execution_count": 9
        }
      ]
    },
    {
      "cell_type": "code",
      "source": [
        "a = np.array(a)\n",
        "b = np.array(b)\n",
        "a+b #brpadcasting"
      ],
      "metadata": {
        "colab": {
          "base_uri": "https://localhost:8080/"
        },
        "id": "YJ4ErUetJRlB",
        "outputId": "a1d5bbd8-caa8-426b-de21-e076c4d715cb"
      },
      "execution_count": 10,
      "outputs": [
        {
          "output_type": "execute_result",
          "data": {
            "text/plain": [
              "array([4, 6, 9])"
            ]
          },
          "metadata": {},
          "execution_count": 10
        }
      ]
    },
    {
      "cell_type": "code",
      "source": [
        "for x,y in zip(a,b):\n",
        "  print(x,y)"
      ],
      "metadata": {
        "colab": {
          "base_uri": "https://localhost:8080/"
        },
        "id": "VrX-hze-KV2w",
        "outputId": "382d3378-fd06-4add-fe9d-8c40638483f5"
      },
      "execution_count": 12,
      "outputs": [
        {
          "output_type": "stream",
          "name": "stdout",
          "text": [
            "1 3\n",
            "2 4\n",
            "3 6\n"
          ]
        }
      ]
    },
    {
      "cell_type": "code",
      "source": [
        "def euclidian_distance(a, b):\n",
        "  '''\n",
        "  sqrt((x1-y1)^2 + ...... + (xn-yn)^2)\n",
        "  '''\n",
        "  d = [a-b for a,b in zip(x,y)]\n",
        "  d = [e**2 for e in d]\n",
        "  return sum(d)**0.5"
      ],
      "metadata": {
        "id": "zUrzsO5GI__4"
      },
      "execution_count": 13,
      "outputs": []
    },
    {
      "cell_type": "code",
      "source": [
        "euclidian_distance(a,b)"
      ],
      "metadata": {
        "colab": {
          "base_uri": "https://localhost:8080/"
        },
        "id": "F7_YrX9xKvww",
        "outputId": "fd7a5cdf-8e82-4394-c489-297267c19980"
      },
      "execution_count": 14,
      "outputs": [
        {
          "output_type": "execute_result",
          "data": {
            "text/plain": [
              "4.123105625617661"
            ]
          },
          "metadata": {},
          "execution_count": 14
        }
      ]
    },
    {
      "cell_type": "code",
      "source": [
        "def euclidian_distance_np(a, b):\n",
        "  '''\n",
        "  sqrt((x1-y1)^2 + ...... + (xn-yn)^2)\n",
        "  '''\n",
        "  # d = a-b\n",
        "  # d = np.square(d)\n",
        "  # return np.sqrt(d.sum())\n",
        "  return np.sqrt(((a-b)**2).sum())"
      ],
      "metadata": {
        "id": "CPEhZDd2KzsB"
      },
      "execution_count": 15,
      "outputs": []
    },
    {
      "cell_type": "code",
      "source": [
        "((a-b)**2).sum()"
      ],
      "metadata": {
        "colab": {
          "base_uri": "https://localhost:8080/"
        },
        "id": "sJP4hzOaLR5z",
        "outputId": "2101c232-7345-412b-b5a0-f43c1dbe345e"
      },
      "execution_count": 19,
      "outputs": [
        {
          "output_type": "execute_result",
          "data": {
            "text/plain": [
              "17"
            ]
          },
          "metadata": {},
          "execution_count": 19
        }
      ]
    },
    {
      "cell_type": "code",
      "source": [
        "a = np.array(a)\n",
        "b = np.array(b)\n",
        "euclidian_distance_np(a,b)"
      ],
      "metadata": {
        "colab": {
          "base_uri": "https://localhost:8080/"
        },
        "id": "haCqJOBtLGxS",
        "outputId": "8393ec86-3d86-4690-a0ff-8524bca37619"
      },
      "execution_count": 16,
      "outputs": [
        {
          "output_type": "execute_result",
          "data": {
            "text/plain": [
              "4.123105625617661"
            ]
          },
          "metadata": {},
          "execution_count": 16
        }
      ]
    },
    {
      "cell_type": "markdown",
      "source": [
        "- conditional statements"
      ],
      "metadata": {
        "id": "XfBPWF14MN8E"
      }
    },
    {
      "cell_type": "code",
      "source": [
        "mystr = \"is there a cat in the house\"\n",
        "if \"a cat\" in mystr:\n",
        "  print(\"match\")"
      ],
      "metadata": {
        "colab": {
          "base_uri": "https://localhost:8080/"
        },
        "id": "I0UL5UhXL8UC",
        "outputId": "0cdbbc2a-6e73-4c5e-df14-0fbb59aebdb2"
      },
      "execution_count": 20,
      "outputs": [
        {
          "output_type": "stream",
          "name": "stdout",
          "text": [
            "match\n"
          ]
        }
      ]
    },
    {
      "cell_type": "code",
      "source": [
        "mystr = None # false\n",
        "if mystr:\n",
        "  print(\"there is something\")\n",
        "else:\n",
        "  print(\"ther is nothing\")"
      ],
      "metadata": {
        "colab": {
          "base_uri": "https://localhost:8080/"
        },
        "id": "o_SsRglzMo29",
        "outputId": "269b634c-994b-48fb-e6c5-48ba46889f5b"
      },
      "execution_count": 21,
      "outputs": [
        {
          "output_type": "stream",
          "name": "stdout",
          "text": [
            "ther is nothing\n"
          ]
        }
      ]
    },
    {
      "cell_type": "code",
      "source": [
        "mydict"
      ],
      "metadata": {
        "colab": {
          "base_uri": "https://localhost:8080/"
        },
        "id": "xtTJC57sM4Nl",
        "outputId": "6437db8c-c087-47e9-d937-9218f8404b8b"
      },
      "execution_count": 22,
      "outputs": [
        {
          "output_type": "execute_result",
          "data": {
            "text/plain": [
              "{'a': 'aa', 'b': 'bb', 'c': 'cc'}"
            ]
          },
          "metadata": {},
          "execution_count": 22
        }
      ]
    },
    {
      "cell_type": "code",
      "source": [
        "for key,value in mydict.items():\n",
        "  print(key, value*2)"
      ],
      "metadata": {
        "colab": {
          "base_uri": "https://localhost:8080/"
        },
        "id": "MIw7juBCQv-Y",
        "outputId": "2eef2816-29f2-4e16-ae4e-3fdb7b797821"
      },
      "execution_count": 26,
      "outputs": [
        {
          "output_type": "stream",
          "name": "stdout",
          "text": [
            "a aaaa\n",
            "b bbbb\n",
            "c cccc\n"
          ]
        }
      ]
    },
    {
      "cell_type": "code",
      "source": [
        "mydict.values(),mydict.keys()"
      ],
      "metadata": {
        "colab": {
          "base_uri": "https://localhost:8080/"
        },
        "id": "uMl8E4Y0Qz1m",
        "outputId": "d3c511b5-422b-4efe-8b86-17fe500f6d4c"
      },
      "execution_count": 27,
      "outputs": [
        {
          "output_type": "execute_result",
          "data": {
            "text/plain": [
              "(dict_values(['aa', 'bb', 'cc']), dict_keys(['a', 'b', 'c']))"
            ]
          },
          "metadata": {},
          "execution_count": 27
        }
      ]
    },
    {
      "cell_type": "markdown",
      "source": [
        "some basics\n",
        "\n",
        "\n",
        "end"
      ],
      "metadata": {
        "id": "BO2WGZQ7RT9g"
      }
    },
    {
      "cell_type": "code",
      "source": [
        ""
      ],
      "metadata": {
        "id": "btrcNFHyRIVN"
      },
      "execution_count": null,
      "outputs": []
    }
  ]
}